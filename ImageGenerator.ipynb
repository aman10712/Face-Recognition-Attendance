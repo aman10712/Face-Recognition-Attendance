{
 "cells": [
  {
   "cell_type": "code",
   "execution_count": 1,
   "id": "d6d6047d",
   "metadata": {},
   "outputs": [],
   "source": [
    "import os\n",
    "import cv2 as cv\n",
    "from tensorflow.keras.preprocessing.image import ImageDataGenerator,load_img\n",
    "import numpy as np\n",
    "import time"
   ]
  },
  {
   "cell_type": "code",
   "execution_count": 2,
   "id": "00ed0e4a",
   "metadata": {},
   "outputs": [],
   "source": [
    "import warnings\n",
    "warnings.filterwarnings('ignore')"
   ]
  },
  {
   "cell_type": "code",
   "execution_count": 25,
   "id": "32dbeb71",
   "metadata": {},
   "outputs": [],
   "source": [
    "act = 'Tom'"
   ]
  },
  {
   "cell_type": "code",
   "execution_count": 26,
   "id": "da4c3de1",
   "metadata": {},
   "outputs": [],
   "source": [
    "for j in os.listdir(f\"./ImageFaceData/{act}/\"):\n",
    "    x=load_img(f\"./ImageFaceData/{act}/{j}\")\n",
    "    x = np.array(x)\n",
    "    gen = ImageDataGenerator(\n",
    "    featurewise_center=True,\n",
    "    featurewise_std_normalization=True,\n",
    "    rotation_range=20,\n",
    "    width_shift_range=0.2,\n",
    "    height_shift_range=0.2,\n",
    "    horizontal_flip=True,\n",
    "    validation_split=0.2)\n",
    "    c=gen.flow(np.array([x]))\n",
    "    for i in range(0,10):\n",
    "        try:\n",
    "\n",
    "            os.mkdir(f\"./ImageFaceData/{act}\")\n",
    "        except:\n",
    "            pass\n",
    "        cv.imwrite(f\"./ImageFaceData/{act}/{str(int(time.time()*1000))}.jpeg\",c[0][0])"
   ]
  },
  {
   "cell_type": "code",
   "execution_count": null,
   "id": "6f3f324e",
   "metadata": {},
   "outputs": [],
   "source": []
  }
 ],
 "metadata": {
  "kernelspec": {
   "display_name": "Python 3 (ipykernel)",
   "language": "python",
   "name": "python3"
  },
  "language_info": {
   "codemirror_mode": {
    "name": "ipython",
    "version": 3
   },
   "file_extension": ".py",
   "mimetype": "text/x-python",
   "name": "python",
   "nbconvert_exporter": "python",
   "pygments_lexer": "ipython3",
   "version": "3.11.2"
  }
 },
 "nbformat": 4,
 "nbformat_minor": 5
}
