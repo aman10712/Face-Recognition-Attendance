{
 "cells": [
  {
   "cell_type": "code",
   "execution_count": 1,
   "id": "d5747ce5",
   "metadata": {},
   "outputs": [
    {
     "ename": "SyntaxError",
     "evalue": "unterminated string literal (detected at line 1) (3117471975.py, line 1)",
     "output_type": "error",
     "traceback": [
      "\u001b[1;36m  Cell \u001b[1;32mIn[1], line 1\u001b[1;36m\u001b[0m\n\u001b[1;33m    print('bhsdbfjsdf\u001b[0m\n\u001b[1;37m          ^\u001b[0m\n\u001b[1;31mSyntaxError\u001b[0m\u001b[1;31m:\u001b[0m unterminated string literal (detected at line 1)\n"
     ]
    }
   ],
   "source": [
    "print('bhsdbfjsdf"
   ]
  },
  {
   "cell_type": "code",
   "execution_count": 2,
   "id": "53b7f676",
   "metadata": {},
   "outputs": [],
   "source": [
    "import os\n",
    "import cv2 as cv\n",
    "from tensorflow.keras.preprocessing.image import ImageDataGenerator,load_img\n",
    "import numpy as np\n",
    "import time"
   ]
  },
  {
   "cell_type": "code",
   "execution_count": 3,
   "id": "8a710f5d",
   "metadata": {},
   "outputs": [],
   "source": [
    "import warnings\n",
    "warnings.filterwarnings('ignore')"
   ]
  },
  {
   "cell_type": "code",
   "execution_count": 25,
   "id": "01155848",
   "metadata": {},
   "outputs": [],
   "source": [
    "act = 'Tom'"
   ]
  },
  {
   "cell_type": "code",
   "execution_count": 26,
   "id": "55f272b5",
   "metadata": {},
   "outputs": [],
   "source": [
    "face = cv.CascadeClassifier(cv.data.haarcascades + \"haarcascade_frontalface_default.xml\")\n",
    "output_folder = f\"./ImagesData/{act}/output/\"\n",
    "\n",
    "\n",
    "if not os.path.exists(output_folder):\n",
    "    os.makedirs(output_folder)\n",
    "\n",
    "for j in os.listdir(f\"./ImagesData/{act}/\"):\n",
    "    try:\n",
    "        x = load_img(f\"./ImagesData/{act}/{j}\")\n",
    "        x = np.array(x)\n",
    "        fc = face.detectMultiScale(x)\n",
    "        z = x[fc[0][1]:fc[0][1] + fc[0][2], fc[0][0]:fc[0][0] + fc[0][3]]\n",
    "        cv.imshow(\"f\", z)\n",
    "        cv.waitKey(0)\n",
    "        cv.destroyAllWindows()\n",
    "        \n",
    "        \n",
    "        cv.imwrite(f\"{output_folder}/{j}\", z)\n",
    "    except:\n",
    "        pass"
   ]
  },
  {
   "cell_type": "code",
   "execution_count": null,
   "id": "8aaa448b",
   "metadata": {},
   "outputs": [],
   "source": []
  },
  {
   "cell_type": "code",
   "execution_count": null,
   "id": "e4f89eaa",
   "metadata": {},
   "outputs": [],
   "source": []
  },
  {
   "cell_type": "code",
   "execution_count": null,
   "id": "1a85b252",
   "metadata": {},
   "outputs": [],
   "source": []
  },
  {
   "cell_type": "code",
   "execution_count": null,
   "id": "752aa9ef",
   "metadata": {},
   "outputs": [],
   "source": []
  },
  {
   "cell_type": "code",
   "execution_count": null,
   "id": "ab35ddff",
   "metadata": {},
   "outputs": [],
   "source": []
  },
  {
   "cell_type": "markdown",
   "id": "f89c7238",
   "metadata": {},
   "source": [
    "### Practice codes"
   ]
  },
  {
   "cell_type": "code",
   "execution_count": 5,
   "id": "7961fdb1",
   "metadata": {},
   "outputs": [
    {
     "data": {
      "text/plain": [
       "True"
      ]
     },
     "execution_count": 5,
     "metadata": {},
     "output_type": "execute_result"
    }
   ],
   "source": [
    "face = cv.CascadeClassifier(cv.data.haarcascades+\"haarcascade_frontalface_default.xml\")\n",
    "for i in os.listdir(f\"ImagesData\"):\n",
    "    try:\n",
    "\n",
    "        x=load_img(\"images/thamana/\"+i)\n",
    "        x = np.array(x)\n",
    "        fc=face.detectMultiScale(x)\n",
    "        z=x[fc[0][1]:fc[0][1]+fc[0][2],fc[0][0]:fc[0][0]+fc[0][3]]\n",
    "        cv.imshow(\"f\",z)\n",
    "        cv.waitKey(0)\n",
    "        cv.destroyAllWindows()\n",
    "    except:\n",
    "        pass"
   ]
  },
  {
   "cell_type": "code",
   "execution_count": null,
   "id": "fb955ce5",
   "metadata": {},
   "outputs": [],
   "source": []
  },
  {
   "cell_type": "code",
   "execution_count": null,
   "id": "cd842aaa",
   "metadata": {},
   "outputs": [],
   "source": [
    "face = cv.CascadeClassifier(cv.data.haarcascades+\"haarcascade_frontalface_default.xml\")\n",
    "for j in os.listdir(f\"./ImagesData/{act}/\"):\n",
    "     try:\n",
    "\n",
    "        x=load_img(f\"./ImagesData/{act}/{j}\")\n",
    "        x = np.array(x)\n",
    "        fc=face.detectMultiScale(x)\n",
    "        z=x[fc[0][1]:fc[0][1]+fc[0][2],fc[0][0]:fc[0][0]+fc[0][3]]\n",
    "        cv.imshow(\"f\",z)\n",
    "        cv.waitKey(0)\n",
    "        cv.destroyAllWindows()\n",
    "        os.mkdir(f\"./ImagesData/{act}\")\n",
    "    except:\n",
    "        pass\n",
    "    cv.imwrite(f\"./Images/{act}/{str(int(time.time()*1000))}.jpeg\",c[0][0])   "
   ]
  }
 ],
 "metadata": {
  "kernelspec": {
   "display_name": "Python 3 (ipykernel)",
   "language": "python",
   "name": "python3"
  },
  "language_info": {
   "codemirror_mode": {
    "name": "ipython",
    "version": 3
   },
   "file_extension": ".py",
   "mimetype": "text/x-python",
   "name": "python",
   "nbconvert_exporter": "python",
   "pygments_lexer": "ipython3",
   "version": "3.11.2"
  }
 },
 "nbformat": 4,
 "nbformat_minor": 5
}
